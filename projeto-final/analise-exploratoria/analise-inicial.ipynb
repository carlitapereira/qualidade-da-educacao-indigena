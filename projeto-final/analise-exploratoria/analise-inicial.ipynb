{
 "cells": [
  {
   "cell_type": "code",
   "execution_count": 35,
   "metadata": {},
   "outputs": [
    {
     "name": "stdout",
     "output_type": "stream",
     "text": [
      "            NO_MUNICIPIO NO_REGIAO SG_UF  CO_MUNICIPIO NO_CATEGORIA  \\\n",
      "0  Alta Floresta D'Oeste     Norte    RO     1100015.0        Total   \n",
      "1  Alta Floresta D'Oeste     Norte    RO     1100015.0       Urbana   \n",
      "2  Alta Floresta D'Oeste     Norte    RO     1100015.0        Rural   \n",
      "3              Ariquemes     Norte    RO     1100023.0        Total   \n",
      "4              Ariquemes     Norte    RO     1100023.0       Urbana   \n",
      "5              Ariquemes     Norte    RO     1100023.0        Rural   \n",
      "6                 Cabixi     Norte    RO     1100031.0        Total   \n",
      "7                 Cabixi     Norte    RO     1100031.0       Urbana   \n",
      "8                 Cabixi     Norte    RO     1100031.0        Rural   \n",
      "9                 Cacoal     Norte    RO     1100049.0        Total   \n",
      "\n",
      "  Total -educacao infantil  Creche PrÃ©-Escola Total - findamental  \\\n",
      "0                     95.2  100,00        92.3                87.6   \n",
      "1                     94.9  100,00        91.3                95.2   \n",
      "2                   100,00      --      100,00                73.9   \n",
      "3                    94,00    90.6        95.8                97.3   \n",
      "4                     93.5    90.5        95.3                97.2   \n",
      "5                   100,00  100,00      100,00                97.9   \n",
      "6                   100,00      --      100,00              100,00   \n",
      "7                   100,00      --      100,00              100,00   \n",
      "8                       --      --          --              100,00   \n",
      "9                     93.3    90.4        94.3                94.5   \n",
      "\n",
      "  Anos Iniciais fundamental Anos Finais -fundamental Ensino MÃ©dio  \\\n",
      "0                      76.7                     92.7          97.5   \n",
      "1                      93.3                     96.3        100,00   \n",
      "2                      38.5                     86.8          95.4   \n",
      "3                      96.7                     97.9          99.2   \n",
      "4                      96.4                     98.2        100,00   \n",
      "5                     98,00                     96.8          96.8   \n",
      "6                    100,00                   100,00        100,00   \n",
      "7                    100,00                   100,00        100,00   \n",
      "8                        --                   100,00        100,00   \n",
      "9                      96.3                     93.2          97.9   \n",
      "\n",
      "  EducaÃ§Ã£o Profissional EducaÃ§Ã£o de Jovens e Adultos (EJA)  \\\n",
      "0                      --                               100,00   \n",
      "1                      --                               100,00   \n",
      "2                      --                                   --   \n",
      "3                  100,00                               100,00   \n",
      "4                  100,00                               100,00   \n",
      "5                  100,00                                   --   \n",
      "6                      --                               100,00   \n",
      "7                      --                               100,00   \n",
      "8                      --                                   --   \n",
      "9                    82.8                               100,00   \n",
      "\n",
      "  EducaÃ§Ã£o Especial            terrai_nome             etnia_nome  \\\n",
      "0                  --  Não há terra indigena  Não há terra indigena   \n",
      "1                  --  Não há terra indigena  Não há terra indigena   \n",
      "2                  --  Não há terra indigena  Não há terra indigena   \n",
      "3                  --  Não há terra indigena  Não há terra indigena   \n",
      "4                  --  Não há terra indigena  Não há terra indigena   \n",
      "5                  --  Não há terra indigena  Não há terra indigena   \n",
      "6                  --  Não há terra indigena  Não há terra indigena   \n",
      "7                  --  Não há terra indigena  Não há terra indigena   \n",
      "8                  --  Não há terra indigena  Não há terra indigena   \n",
      "9              100,00  Não há terra indigena  Não há terra indigena   \n",
      "\n",
      "           modalidade_ti        faixa_fronteira  \n",
      "0  Não há terra indigena  Não há terra indigena  \n",
      "1  Não há terra indigena  Não há terra indigena  \n",
      "2  Não há terra indigena  Não há terra indigena  \n",
      "3  Não há terra indigena  Não há terra indigena  \n",
      "4  Não há terra indigena  Não há terra indigena  \n",
      "5  Não há terra indigena  Não há terra indigena  \n",
      "6  Não há terra indigena  Não há terra indigena  \n",
      "7  Não há terra indigena  Não há terra indigena  \n",
      "8  Não há terra indigena  Não há terra indigena  \n",
      "9  Não há terra indigena  Não há terra indigena  \n"
     ]
    }
   ],
   "source": [
    "import pandas as pd\n",
    "\n",
    "#\n",
    "caminho_arquivo = 'datasets/base-pronta-educacao-indigena.csv'\n",
    "\n",
    "\n",
    "df = pd.read_csv(caminho_arquivo, delimiter=';', encoding='latin1')  \n",
    "print(df.head(10))"
   ]
  },
  {
   "cell_type": "code",
   "execution_count": 40,
   "metadata": {},
   "outputs": [
    {
     "name": "stdout",
     "output_type": "stream",
     "text": [
      "             NO_MUNICIPIO NO_REGIAO SG_UF  CO_MUNICIPIO NO_CATEGORIA  \\\n",
      "0   Alta Floresta D'Oeste     Norte    RO     1100015.0        Total   \n",
      "3               Ariquemes     Norte    RO     1100023.0        Total   \n",
      "6                  Cabixi     Norte    RO     1100031.0        Total   \n",
      "9                  Cacoal     Norte    RO     1100049.0        Total   \n",
      "12             Cerejeiras     Norte    RO     1100056.0        Total   \n",
      "15      Colorado do Oeste     Norte    RO     1100064.0        Total   \n",
      "18             Corumbiara     Norte    RO     1100072.0        Total   \n",
      "21          Costa Marques     Norte    RO     1100080.0        Total   \n",
      "24       EspigÃ£o D'Oeste     Norte    RO     1100098.0        Total   \n",
      "27         GuajarÃ¡-Mirim     Norte    RO     1100106.0        Total   \n",
      "\n",
      "   Total -educacao infantil  Creche PrÃ©-Escola Total - findamental  \\\n",
      "0                      95.2  100,00        92.3                87.6   \n",
      "3                     94,00    90.6        95.8                97.3   \n",
      "6                    100,00      --      100,00              100,00   \n",
      "9                      93.3    90.4        94.3                94.5   \n",
      "12                   100,00  100,00      100,00                98.1   \n",
      "15                     97.8  100,00        96.3              100,00   \n",
      "18                     87.5  100,00        81.8               98,00   \n",
      "21                     53.6    55.6        52.6                75.4   \n",
      "24                   100,00  100,00      100,00                91.6   \n",
      "27                     91.4    83.3        93.6                72.2   \n",
      "\n",
      "   Anos Iniciais fundamental Anos Finais -fundamental Ensino MÃ©dio  \\\n",
      "0                       76.7                     92.7          97.5   \n",
      "3                       96.7                     97.9          99.2   \n",
      "6                     100,00                   100,00        100,00   \n",
      "9                       96.3                     93.2          97.9   \n",
      "12                     97,00                     97.6        100,00   \n",
      "15                    100,00                   100,00        100,00   \n",
      "18                      96.3                   100,00        100,00   \n",
      "21                      63.6                     86.7          97.5   \n",
      "24                      89.9                     93.9          98.8   \n",
      "27                      67.2                     76.8          98.5   \n",
      "\n",
      "   EducaÃ§Ã£o Profissional EducaÃ§Ã£o de Jovens e Adultos (EJA)  \\\n",
      "0                       --                               100,00   \n",
      "3                   100,00                               100,00   \n",
      "6                       --                               100,00   \n",
      "9                     82.8                               100,00   \n",
      "12                      --                               100,00   \n",
      "15                      --                               100,00   \n",
      "18                      --                               100,00   \n",
      "21                      --                                 91.7   \n",
      "24                      --                               100,00   \n",
      "27                      --                               100,00   \n",
      "\n",
      "   EducaÃ§Ã£o Especial            terrai_nome             etnia_nome  \\\n",
      "0                   --  Não há terra indigena  Não há terra indigena   \n",
      "3                   --  Não há terra indigena  Não há terra indigena   \n",
      "6                   --  Não há terra indigena  Não há terra indigena   \n",
      "9               100,00  Não há terra indigena  Não há terra indigena   \n",
      "12                  --  Não há terra indigena  Não há terra indigena   \n",
      "15                  --  Não há terra indigena  Não há terra indigena   \n",
      "18                  --  Não há terra indigena  Não há terra indigena   \n",
      "21                  --  Não há terra indigena  Não há terra indigena   \n",
      "24                  --  Não há terra indigena  Não há terra indigena   \n",
      "27                  --  Não há terra indigena  Não há terra indigena   \n",
      "\n",
      "            modalidade_ti        faixa_fronteira  \n",
      "0   Não há terra indigena  Não há terra indigena  \n",
      "3   Não há terra indigena  Não há terra indigena  \n",
      "6   Não há terra indigena  Não há terra indigena  \n",
      "9   Não há terra indigena  Não há terra indigena  \n",
      "12  Não há terra indigena  Não há terra indigena  \n",
      "15  Não há terra indigena  Não há terra indigena  \n",
      "18  Não há terra indigena  Não há terra indigena  \n",
      "21  Não há terra indigena  Não há terra indigena  \n",
      "24  Não há terra indigena  Não há terra indigena  \n",
      "27  Não há terra indigena  Não há terra indigena  \n"
     ]
    }
   ],
   "source": [
    "\n",
    "caminho_arquivo = 'datasets/base-pronta-educacao-indigena.csv'\n",
    "\n",
    "df = pd.read_csv(caminho_arquivo, delimiter=';', encoding='latin1')\n",
    "\n",
    "df_filtrado = df[~df['NO_CATEGORIA'].isin(['Rural', 'Urbana'])]\n",
    "\n",
    "\n",
    "print(df_filtrado.head(10))"
   ]
  },
  {
   "cell_type": "code",
   "execution_count": 41,
   "metadata": {},
   "outputs": [
    {
     "name": "stdout",
     "output_type": "stream",
     "text": [
      "             NO_MUNICIPIO NO_REGIAO SG_UF  CO_MUNICIPIO  \\\n",
      "0   Alta Floresta D'Oeste     Norte    RO     1100015.0   \n",
      "1   Alta Floresta D'Oeste     Norte    RO     1100015.0   \n",
      "3               Ariquemes     Norte    RO     1100023.0   \n",
      "4               Ariquemes     Norte    RO     1100023.0   \n",
      "6                  Cabixi     Norte    RO     1100031.0   \n",
      "7                  Cabixi     Norte    RO     1100031.0   \n",
      "9                  Cacoal     Norte    RO     1100049.0   \n",
      "10                 Cacoal     Norte    RO     1100049.0   \n",
      "12             Cerejeiras     Norte    RO     1100056.0   \n",
      "13             Cerejeiras     Norte    RO     1100056.0   \n",
      "\n",
      "   Total -educacao infantil  Creche PrÃ©-Escola Total - findamental  \\\n",
      "0                      95.2  100,00        92.3                87.6   \n",
      "1                      94.9  100,00        91.3                95.2   \n",
      "3                     94,00    90.6        95.8                97.3   \n",
      "4                      93.5    90.5        95.3                97.2   \n",
      "6                    100,00      --      100,00              100,00   \n",
      "7                    100,00      --      100,00              100,00   \n",
      "9                      93.3    90.4        94.3                94.5   \n",
      "10                     94.1    90.4        95.7                99.1   \n",
      "12                   100,00  100,00      100,00                98.1   \n",
      "13                   100,00  100,00      100,00                98.1   \n",
      "\n",
      "   Anos Iniciais fundamental Anos Finais -fundamental Ensino MÃ©dio  \\\n",
      "0                       76.7                     92.7          97.5   \n",
      "1                       93.3                     96.3        100,00   \n",
      "3                       96.7                     97.9          99.2   \n",
      "4                       96.4                     98.2        100,00   \n",
      "6                     100,00                   100,00        100,00   \n",
      "7                     100,00                   100,00        100,00   \n",
      "9                       96.3                     93.2          97.9   \n",
      "10                      98.6                     99.6        100,00   \n",
      "12                     97,00                     97.6        100,00   \n",
      "13                     97,00                     97.6        100,00   \n",
      "\n",
      "   EducaÃ§Ã£o Profissional EducaÃ§Ã£o de Jovens e Adultos (EJA)  \\\n",
      "0                       --                               100,00   \n",
      "1                       --                               100,00   \n",
      "3                   100,00                               100,00   \n",
      "4                   100,00                               100,00   \n",
      "6                       --                               100,00   \n",
      "7                       --                               100,00   \n",
      "9                     82.8                               100,00   \n",
      "10                    92.3                               100,00   \n",
      "12                      --                               100,00   \n",
      "13                      --                               100,00   \n",
      "\n",
      "   EducaÃ§Ã£o Especial            terrai_nome             etnia_nome  \\\n",
      "0                   --  Não há terra indigena  Não há terra indigena   \n",
      "1                   --  Não há terra indigena  Não há terra indigena   \n",
      "3                   --  Não há terra indigena  Não há terra indigena   \n",
      "4                   --  Não há terra indigena  Não há terra indigena   \n",
      "6                   --  Não há terra indigena  Não há terra indigena   \n",
      "7                   --  Não há terra indigena  Não há terra indigena   \n",
      "9               100,00  Não há terra indigena  Não há terra indigena   \n",
      "10              100,00  Não há terra indigena  Não há terra indigena   \n",
      "12                  --  Não há terra indigena  Não há terra indigena   \n",
      "13                  --  Não há terra indigena  Não há terra indigena   \n",
      "\n",
      "            modalidade_ti        faixa_fronteira  \n",
      "0   Não há terra indigena  Não há terra indigena  \n",
      "1   Não há terra indigena  Não há terra indigena  \n",
      "3   Não há terra indigena  Não há terra indigena  \n",
      "4   Não há terra indigena  Não há terra indigena  \n",
      "6   Não há terra indigena  Não há terra indigena  \n",
      "7   Não há terra indigena  Não há terra indigena  \n",
      "9   Não há terra indigena  Não há terra indigena  \n",
      "10  Não há terra indigena  Não há terra indigena  \n",
      "12  Não há terra indigena  Não há terra indigena  \n",
      "13  Não há terra indigena  Não há terra indigena  \n"
     ]
    }
   ],
   "source": [
    "import pandas as pd\n",
    "\n",
    "\n",
    "caminho_arquivo = 'datasets/base-pronta-educacao-indigena.csv'\n",
    "\n",
    "\n",
    "df = pd.read_csv(caminho_arquivo, delimiter=';', encoding='latin1')\n",
    "\n",
    "\n",
    "df_filtrado = df[~df['NO_CATEGORIA'].isin(['Rural', 'Urbano'])]\n",
    "\n",
    "\n",
    "df_filtrado = df_filtrado.drop(columns=['NO_CATEGORIA'])\n",
    "\n",
    "\n",
    "print(df_filtrado.head(10))\n"
   ]
  },
  {
   "cell_type": "code",
   "execution_count": 44,
   "metadata": {},
   "outputs": [
    {
     "name": "stdout",
     "output_type": "stream",
     "text": [
      "            NO_MUNICIPIO NO_REGIAO SG_UF  CO_MUNICIPIO NO_CATEGORIA  \\\n",
      "0  Alta Floresta D'Oeste     Norte    RO     1100015.0        Total   \n",
      "1  Alta Floresta D'Oeste     Norte    RO     1100015.0       Urbana   \n",
      "2  Alta Floresta D'Oeste     Norte    RO     1100015.0        Rural   \n",
      "\n",
      "  Total -educacao infantil  Creche PrÃ©-Escola Total - findamental  \\\n",
      "0                     95.2  100,00        92.3                87.6   \n",
      "1                     94.9  100,00        91.3                95.2   \n",
      "2                   100,00      --      100,00                73.9   \n",
      "\n",
      "  Anos Iniciais fundamental Anos Finais -fundamental Ensino MÃ©dio  \\\n",
      "0                      76.7                     92.7          97.5   \n",
      "1                      93.3                     96.3        100,00   \n",
      "2                      38.5                     86.8          95.4   \n",
      "\n",
      "  EducaÃ§Ã£o Profissional EducaÃ§Ã£o de Jovens e Adultos (EJA)  \\\n",
      "0                      --                               100,00   \n",
      "1                      --                               100,00   \n",
      "2                      --                                   --   \n",
      "\n",
      "  EducaÃ§Ã£o Especial            terrai_nome             etnia_nome  \\\n",
      "0                  --  Não há terra indigena  Não há terra indigena   \n",
      "1                  --  Não há terra indigena  Não há terra indigena   \n",
      "2                  --  Não há terra indigena  Não há terra indigena   \n",
      "\n",
      "           modalidade_ti        faixa_fronteira  \n",
      "0  Não há terra indigena  Não há terra indigena  \n",
      "1  Não há terra indigena  Não há terra indigena  \n",
      "2  Não há terra indigena  Não há terra indigena  \n"
     ]
    }
   ],
   "source": [
    "import pandas as pd\n",
    "\n",
    "\n",
    "file_path = 'datasets/base-pronta-educacao-indigena.csv'\n",
    "df = pd.read_csv(file_path, delimiter=';', encoding='latin-1')\n",
    "\n",
    "\n",
    "print(df.head(3))"
   ]
  },
  {
   "cell_type": "code",
   "execution_count": 46,
   "metadata": {},
   "outputs": [
    {
     "name": "stdout",
     "output_type": "stream",
     "text": [
      "            NO_MUNICIPIO NO_REGIAO SG_UF  CO_MUNICIPIO NO_CATEGORIA  \\\n",
      "0  Alta Floresta D'Oeste     Norte    RO     1100015.0        Total   \n",
      "3              Ariquemes     Norte    RO     1100023.0        Total   \n",
      "6                 Cabixi     Norte    RO     1100031.0        Total   \n",
      "\n",
      "  Total -educacao infantil  Creche PrÃ©-Escola Total - findamental  \\\n",
      "0                     95.2  100,00        92.3                87.6   \n",
      "3                    94,00    90.6        95.8                97.3   \n",
      "6                   100,00      --      100,00              100,00   \n",
      "\n",
      "  Anos Iniciais fundamental Anos Finais -fundamental Ensino MÃ©dio  \\\n",
      "0                      76.7                     92.7          97.5   \n",
      "3                      96.7                     97.9          99.2   \n",
      "6                    100,00                   100,00        100,00   \n",
      "\n",
      "  EducaÃ§Ã£o Profissional EducaÃ§Ã£o de Jovens e Adultos (EJA)  \\\n",
      "0                      --                               100,00   \n",
      "3                  100,00                               100,00   \n",
      "6                      --                               100,00   \n",
      "\n",
      "  EducaÃ§Ã£o Especial            terrai_nome             etnia_nome  \\\n",
      "0                  --  Não há terra indigena  Não há terra indigena   \n",
      "3                  --  Não há terra indigena  Não há terra indigena   \n",
      "6                  --  Não há terra indigena  Não há terra indigena   \n",
      "\n",
      "           modalidade_ti        faixa_fronteira  \n",
      "0  Não há terra indigena  Não há terra indigena  \n",
      "3  Não há terra indigena  Não há terra indigena  \n",
      "6  Não há terra indigena  Não há terra indigena  \n"
     ]
    }
   ],
   "source": [
    "import pandas as pd\n",
    "\n",
    "\n",
    "file_path = 'datasets/base-pronta-educacao-indigena.csv'\n",
    "df = pd.read_csv(file_path, delimiter=';', encoding='latin-1')\n",
    "\n",
    "\n",
    "df_filtered = df[~df['NO_CATEGORIA'].isin(['Urbana', 'Rural'])]\n",
    "\n",
    "\n",
    "print(df_filtered.head(3))"
   ]
  },
  {
   "cell_type": "code",
   "execution_count": 47,
   "metadata": {},
   "outputs": [
    {
     "name": "stdout",
     "output_type": "stream",
     "text": [
      "            NO_MUNICIPIO NO_REGIAO SG_UF  CO_MUNICIPIO  \\\n",
      "0  Alta Floresta D'Oeste     Norte    RO     1100015.0   \n",
      "3              Ariquemes     Norte    RO     1100023.0   \n",
      "6                 Cabixi     Norte    RO     1100031.0   \n",
      "\n",
      "  Total -educacao infantil  Creche PrÃ©-Escola Total - findamental  \\\n",
      "0                     95.2  100,00        92.3                87.6   \n",
      "3                    94,00    90.6        95.8                97.3   \n",
      "6                   100,00      --      100,00              100,00   \n",
      "\n",
      "  Anos Iniciais fundamental Anos Finais -fundamental Ensino MÃ©dio  \\\n",
      "0                      76.7                     92.7          97.5   \n",
      "3                      96.7                     97.9          99.2   \n",
      "6                    100,00                   100,00        100,00   \n",
      "\n",
      "  EducaÃ§Ã£o Profissional EducaÃ§Ã£o de Jovens e Adultos (EJA)  \\\n",
      "0                      --                               100,00   \n",
      "3                  100,00                               100,00   \n",
      "6                      --                               100,00   \n",
      "\n",
      "  EducaÃ§Ã£o Especial            terrai_nome             etnia_nome  \\\n",
      "0                  --  Não há terra indigena  Não há terra indigena   \n",
      "3                  --  Não há terra indigena  Não há terra indigena   \n",
      "6                  --  Não há terra indigena  Não há terra indigena   \n",
      "\n",
      "           modalidade_ti        faixa_fronteira  \n",
      "0  Não há terra indigena  Não há terra indigena  \n",
      "3  Não há terra indigena  Não há terra indigena  \n",
      "6  Não há terra indigena  Não há terra indigena  \n"
     ]
    },
    {
     "name": "stderr",
     "output_type": "stream",
     "text": [
      "C:\\Users\\carla\\AppData\\Local\\Temp\\ipykernel_23792\\3142480139.py:11: SettingWithCopyWarning: \n",
      "A value is trying to be set on a copy of a slice from a DataFrame\n",
      "\n",
      "See the caveats in the documentation: https://pandas.pydata.org/pandas-docs/stable/user_guide/indexing.html#returning-a-view-versus-a-copy\n",
      "  df_filtered.drop(columns=['NO_CATEGORIA'], inplace=True)\n"
     ]
    }
   ],
   "source": [
    "import pandas as pd\n",
    "\n",
    "\n",
    "file_path = 'datasets/base-pronta-educacao-indigena.csv'\n",
    "df = pd.read_csv(file_path, delimiter=';', encoding='latin-1')\n",
    "\n",
    "\n",
    "df_filtered = df[~df['NO_CATEGORIA'].isin(['Urbana', 'Rural'])]\n",
    "\n",
    "\n",
    "df_filtered.drop(columns=['NO_CATEGORIA'], inplace=True)\n",
    "\n",
    "\n",
    "print(df_filtered.head(3))"
   ]
  },
  {
   "cell_type": "code",
   "execution_count": 50,
   "metadata": {},
   "outputs": [
    {
     "name": "stdout",
     "output_type": "stream",
     "text": [
      "Empty DataFrame\n",
      "Columns: [ï»¿GEOCODIGO_MUNICIPIO, NOME_MUNICIPIO, LONGITUDE, LATITUDE, NO_MUNICIPIO, NO_REGIAO, SG_UF, CO_MUNICIPIO, NO_CATEGORIA, Total -educacao infantil, Creche, PrÃ©-Escola, Total - findamental, Anos Iniciais fundamental, Anos Finais -fundamental, Ensino MÃ©dio, EducaÃ§Ã£o Profissional, EducaÃ§Ã£o de Jovens e Adultos (EJA), EducaÃ§Ã£o Especial, terrai_nome, etnia_nome, modalidade_ti, faixa_fronteira]\n",
      "Index: []\n",
      "\n",
      "[0 rows x 23 columns]\n"
     ]
    }
   ],
   "source": [
    "import pandas as pd\n",
    "\n",
    "\n",
    "file_path_1 = 'datasets/base-pronta-educacao-indigena.csv'\n",
    "file_path_2 = 'datasets/anexo_16261_Coordenadas_Sedes_5565_Municípios_2010 (2).csv'\n",
    "\n",
    "df1 = pd.read_csv(file_path_1, delimiter=';', encoding='latin-1')\n",
    "df2 = pd.read_csv(file_path_2, delimiter=';', encoding='latin-1')\n",
    "\n",
    "\n",
    "df_merged = pd.merge(df2, df1, left_on='NOME_MUNICIPIO', right_on='NO_MUNICIPIO', how='inner')\n",
    "\n",
    "\n",
    "print(df_merged.head(3))"
   ]
  },
  {
   "cell_type": "code",
   "execution_count": 51,
   "metadata": {},
   "outputs": [
    {
     "name": "stdout",
     "output_type": "stream",
     "text": [
      "Valores únicos em NO_MUNICIPIO:\n",
      "[\"Alta Floresta D'Oeste\" 'Ariquemes' 'Cabixi' ... 'Vila PropÃ\\xadcio'\n",
      " 'BrasÃ\\xadlia' nan]\n",
      "\n",
      "Valores únicos em NOME_MUNICIPIO:\n",
      "[\"ALTA FLORESTA D'OESTE\" 'ARIQUEMES' 'CABIXI' ... 'VILA BOA'\n",
      " 'VILA PROPÃ\\x8dCIO' 'BRASÃ\\x8dLIA']\n"
     ]
    }
   ],
   "source": [
    "import pandas as pd\n",
    "\n",
    "\n",
    "file_path_1 = 'datasets/base-pronta-educacao-indigena.csv'\n",
    "file_path_2 = 'datasets/anexo_16261_Coordenadas_Sedes_5565_Municípios_2010 (2).csv'\n",
    "\n",
    "df1 = pd.read_csv(file_path_1, delimiter=';', encoding='latin-1')\n",
    "df2 = pd.read_csv(file_path_2, delimiter=';', encoding='latin-1')\n",
    "\n",
    "\n",
    "unique_no_municipio = df1['NO_MUNICIPIO'].unique()\n",
    "unique_nome_municipio = df2['NOME_MUNICIPIO'].unique()\n",
    "\n",
    "\n",
    "print(\"Valores únicos em NO_MUNICIPIO:\")\n",
    "print(unique_no_municipio)\n",
    "\n",
    "print(\"\\nValores únicos em NOME_MUNICIPIO:\")\n",
    "print(unique_nome_municipio)"
   ]
  },
  {
   "cell_type": "code",
   "execution_count": 52,
   "metadata": {},
   "outputs": [
    {
     "name": "stdout",
     "output_type": "stream",
     "text": [
      "   ï»¿GEOCODIGO_MUNICIPIO         NOME_MUNICIPIO   LONGITUDE    LATITUDE  \\\n",
      "0                 1100015  alta floresta d'oeste  -61,999824  -11,935540   \n",
      "1                 1100015  alta floresta d'oeste  -61,999824  -11,935540   \n",
      "2                 1100015  alta floresta d'oeste  -61,999824  -11,935540   \n",
      "\n",
      "            NO_MUNICIPIO NO_REGIAO SG_UF  CO_MUNICIPIO NO_CATEGORIA  \\\n",
      "0  alta floresta d'oeste     Norte    RO     1100015.0        Total   \n",
      "1  alta floresta d'oeste     Norte    RO     1100015.0       Urbana   \n",
      "2  alta floresta d'oeste     Norte    RO     1100015.0        Rural   \n",
      "\n",
      "  Total -educacao infantil  ... Anos Iniciais fundamental  \\\n",
      "0                     95.2  ...                      76.7   \n",
      "1                     94.9  ...                      93.3   \n",
      "2                   100,00  ...                      38.5   \n",
      "\n",
      "  Anos Finais -fundamental Ensino MÃ©dio EducaÃ§Ã£o Profissional  \\\n",
      "0                     92.7          97.5                      --   \n",
      "1                     96.3        100,00                      --   \n",
      "2                     86.8          95.4                      --   \n",
      "\n",
      "  EducaÃ§Ã£o de Jovens e Adultos (EJA) EducaÃ§Ã£o Especial  \\\n",
      "0                               100,00                  --   \n",
      "1                               100,00                  --   \n",
      "2                                   --                  --   \n",
      "\n",
      "             terrai_nome             etnia_nome          modalidade_ti  \\\n",
      "0  Não há terra indigena  Não há terra indigena  Não há terra indigena   \n",
      "1  Não há terra indigena  Não há terra indigena  Não há terra indigena   \n",
      "2  Não há terra indigena  Não há terra indigena  Não há terra indigena   \n",
      "\n",
      "         faixa_fronteira  \n",
      "0  Não há terra indigena  \n",
      "1  Não há terra indigena  \n",
      "2  Não há terra indigena  \n",
      "\n",
      "[3 rows x 23 columns]\n"
     ]
    }
   ],
   "source": [
    "import pandas as pd\n",
    "\n",
    "\n",
    "file_path_1 = 'datasets/base-pronta-educacao-indigena.csv'\n",
    "file_path_2 = 'datasets/anexo_16261_Coordenadas_Sedes_5565_Municípios_2010 (2).csv'\n",
    "\n",
    "df1 = pd.read_csv(file_path_1, delimiter=';', encoding='latin-1')\n",
    "df2 = pd.read_csv(file_path_2, delimiter=';', encoding='latin-1')\n",
    "\n",
    "\n",
    "df1['NO_MUNICIPIO'] = df1['NO_MUNICIPIO'].str.lower().str.strip()\n",
    "df2['NOME_MUNICIPIO'] = df2['NOME_MUNICIPIO'].str.lower().str.strip()\n",
    "\n",
    "\n",
    "df_merged = pd.merge(df2, df1, left_on='NOME_MUNICIPIO', right_on='NO_MUNICIPIO', how='inner')\n",
    "\n",
    "\n",
    "print(df_merged.head(3))"
   ]
  },
  {
   "cell_type": "code",
   "execution_count": 53,
   "metadata": {},
   "outputs": [
    {
     "name": "stdout",
     "output_type": "stream",
     "text": [
      "   ï»¿GEOCODIGO_MUNICIPIO         NOME_MUNICIPIO   LONGITUDE    LATITUDE  \\\n",
      "0                 1100015  alta floresta d'oeste  -61,999824  -11,935540   \n",
      "1                 1100015  alta floresta d'oeste  -61,999824  -11,935540   \n",
      "2                 1100015  alta floresta d'oeste  -61,999824  -11,935540   \n",
      "\n",
      "            NO_MUNICIPIO NO_REGIAO SG_UF  CO_MUNICIPIO NO_CATEGORIA  \\\n",
      "0  alta floresta d'oeste     Norte    RO     1100015.0        Total   \n",
      "1  alta floresta d'oeste     Norte    RO     1100015.0       Urbana   \n",
      "2  alta floresta d'oeste     Norte    RO     1100015.0        Rural   \n",
      "\n",
      "  Total -educacao infantil  ... Anos Iniciais fundamental  \\\n",
      "0                     95.2  ...                      76.7   \n",
      "1                     94.9  ...                      93.3   \n",
      "2                   100,00  ...                      38.5   \n",
      "\n",
      "  Anos Finais -fundamental Ensino MÃ©dio EducaÃ§Ã£o Profissional  \\\n",
      "0                     92.7          97.5                      --   \n",
      "1                     96.3        100,00                      --   \n",
      "2                     86.8          95.4                      --   \n",
      "\n",
      "  EducaÃ§Ã£o de Jovens e Adultos (EJA) EducaÃ§Ã£o Especial  \\\n",
      "0                               100,00                  --   \n",
      "1                               100,00                  --   \n",
      "2                                   --                  --   \n",
      "\n",
      "             terrai_nome             etnia_nome          modalidade_ti  \\\n",
      "0  Não há terra indigena  Não há terra indigena  Não há terra indigena   \n",
      "1  Não há terra indigena  Não há terra indigena  Não há terra indigena   \n",
      "2  Não há terra indigena  Não há terra indigena  Não há terra indigena   \n",
      "\n",
      "         faixa_fronteira  \n",
      "0  Não há terra indigena  \n",
      "1  Não há terra indigena  \n",
      "2  Não há terra indigena  \n",
      "\n",
      "[3 rows x 23 columns]\n"
     ]
    }
   ],
   "source": [
    "import pandas as pd\n",
    "\n",
    "\n",
    "file_path_1 = 'datasets/base-pronta-educacao-indigena.csv'\n",
    "file_path_2 = 'datasets/anexo_16261_Coordenadas_Sedes_5565_Municípios_2010 (2).csv'\n",
    "\n",
    "df1 = pd.read_csv(file_path_1, delimiter=';', encoding='latin-1', skiprows=0)\n",
    "df2 = pd.read_csv(file_path_2, delimiter=';', encoding='latin-1', skiprows=0)\n",
    "\n",
    "\n",
    "df1['NO_MUNICIPIO'] = df1['NO_MUNICIPIO'].str.lower().str.strip()\n",
    "df2['NOME_MUNICIPIO'] = df2['NOME_MUNICIPIO'].str.lower().str.strip()\n",
    "\n",
    "\n",
    "df_merged = pd.merge(df2, df1, left_on='NOME_MUNICIPIO', right_on='NO_MUNICIPIO', how='inner')\n",
    "\n",
    "\n",
    "df_merged.columns = df_merged.columns.str.strip()\n",
    "\n",
    "\n",
    "print(df_merged.head(3))"
   ]
  },
  {
   "cell_type": "code",
   "execution_count": 54,
   "metadata": {},
   "outputs": [
    {
     "name": "stdout",
     "output_type": "stream",
     "text": [
      "Arquivo de junção salvo como 'datasets/merged_data.csv'.\n"
     ]
    }
   ],
   "source": [
    "import pandas as pd\n",
    "\n",
    "\n",
    "file_path_1 = 'datasets/base-pronta-educacao-indigena.csv'\n",
    "file_path_2 = 'datasets/anexo_16261_Coordenadas_Sedes_5565_Municípios_2010 (2).csv'\n",
    "\n",
    "df1 = pd.read_csv(file_path_1, delimiter=';', encoding='latin-1')\n",
    "df2 = pd.read_csv(file_path_2, delimiter=';', encoding='latin-1')\n",
    "\n",
    "\n",
    "df1['NO_MUNICIPIO'] = df1['NO_MUNICIPIO'].str.lower().str.strip()\n",
    "df2['NOME_MUNICIPIO'] = df2['NOME_MUNICIPIO'].str.lower().str.strip()\n",
    "\n",
    "\n",
    "df_merged = pd.merge(df2, df1, left_on='NOME_MUNICIPIO', right_on='NO_MUNICIPIO', how='inner')\n",
    "\n",
    "\n",
    "df_merged.columns = df_merged.columns.str.strip()\n",
    "\n",
    "\n",
    "output_file_path = 'datasets/merged_data.csv'\n",
    "df_merged.to_csv(output_file_path, sep=';', index=False, encoding='latin-1')\n",
    "\n",
    "print(f\"Arquivo de junção salvo como '{output_file_path}'.\")"
   ]
  },
  {
   "cell_type": "code",
   "execution_count": 55,
   "metadata": {},
   "outputs": [
    {
     "name": "stdout",
     "output_type": "stream",
     "text": [
      "Linhas com valores 'Rural' e 'Urbana' removidas e arquivo atualizado.\n"
     ]
    }
   ],
   "source": [
    "import pandas as pd\n",
    "\n",
    "\n",
    "file_path = 'datasets/merged_data.csv'\n",
    "df = pd.read_csv(file_path, delimiter=';', encoding='latin-1')\n",
    "\n",
    "\n",
    "df_filtered = df[~df['NO_CATEGORIA'].isin(['Rural', 'Urbana'])]\n",
    "\n",
    "\n",
    "df_filtered.to_csv(file_path, sep=';', index=False, encoding='latin-1')\n",
    "\n",
    "print(\"Linhas com valores 'Rural' e 'Urbana' removidas e arquivo atualizado.\")"
   ]
  },
  {
   "cell_type": "code",
   "execution_count": 56,
   "metadata": {},
   "outputs": [
    {
     "name": "stdout",
     "output_type": "stream",
     "text": [
      "Coluna 'NO_CATEGORIA' removida e arquivo atualizado.\n"
     ]
    }
   ],
   "source": [
    "import pandas as pd\n",
    "\n",
    "\n",
    "file_path = 'datasets/merged_data.csv'\n",
    "df = pd.read_csv(file_path, delimiter=';', encoding='latin-1')\n",
    "\n",
    "\n",
    "df.drop(columns=['NO_CATEGORIA'], inplace=True)\n",
    "\n",
    "\n",
    "df.to_csv(file_path, sep=';', index=False, encoding='latin-1')\n",
    "\n",
    "print(\"Coluna 'NO_CATEGORIA' removida e arquivo atualizado.\")"
   ]
  },
  {
   "cell_type": "code",
   "execution_count": 58,
   "metadata": {},
   "outputs": [
    {
     "name": "stdout",
     "output_type": "stream",
     "text": [
      "Colunas presentes no DataFrame:\n",
      "Index(['ï»¿GEOCODIGO_MUNICIPIO', 'NOME_MUNICIPIO', 'LONGITUDE', 'LATITUDE',\n",
      "       'NO_MUNICIPIO', 'NO_REGIAO', 'SG_UF', 'CO_MUNICIPIO',\n",
      "       'Total -educacao infantil', 'Creche', 'PrÃ©-Escola',\n",
      "       'Total - findamental', 'Anos Iniciais fundamental',\n",
      "       'Anos Finais -fundamental', 'Ensino MÃ©dio', 'EducaÃ§Ã£o Profissional',\n",
      "       'EducaÃ§Ã£o de Jovens e Adultos (EJA)', 'EducaÃ§Ã£o Especial',\n",
      "       'terrai_nome', 'etnia_nome', 'modalidade_ti', 'faixa_fronteira'],\n",
      "      dtype='object')\n"
     ]
    }
   ],
   "source": [
    "import pandas as pd\n",
    "\n",
    "\n",
    "file_path = 'datasets/merged_data.csv'\n",
    "df = pd.read_csv(file_path, delimiter=';', encoding='latin-1')\n",
    "\n",
    "\n",
    "print(\"Colunas presentes no DataFrame:\")\n",
    "print(df.columns)"
   ]
  },
  {
   "cell_type": "code",
   "execution_count": 59,
   "metadata": {},
   "outputs": [
    {
     "name": "stdout",
     "output_type": "stream",
     "text": [
      "Colunas 'ï»¿GEOCODIGO_MUNICIPIO' e 'NOME_MUNICIPIO' removidas e arquivo atualizado.\n"
     ]
    }
   ],
   "source": [
    "import pandas as pd\n",
    "\n",
    "\n",
    "file_path = 'datasets/merged_data.csv'\n",
    "df = pd.read_csv(file_path, delimiter=';', encoding='latin-1')\n",
    "\n",
    "df.drop(columns=['ï»¿GEOCODIGO_MUNICIPIO', 'NOME_MUNICIPIO'], inplace=True)\n",
    "\n",
    "df.to_csv(file_path, sep=';', index=False, encoding='latin-1')\n",
    "\n",
    "print(\"Colunas 'ï»¿GEOCODIGO_MUNICIPIO' e 'NOME_MUNICIPIO' removidas e arquivo atualizado.\")"
   ]
  },
  {
   "cell_type": "code",
   "execution_count": 60,
   "metadata": {},
   "outputs": [
    {
     "name": "stdout",
     "output_type": "stream",
     "text": [
      "Tipos de dados das colunas:\n",
      "LONGITUDE                                object\n",
      "LATITUDE                                 object\n",
      "NO_MUNICIPIO                             object\n",
      "NO_REGIAO                                object\n",
      "SG_UF                                    object\n",
      "CO_MUNICIPIO                            float64\n",
      "Total -educacao infantil                 object\n",
      "Creche                                   object\n",
      "PrÃ©-Escola                              object\n",
      "Total - findamental                      object\n",
      "Anos Iniciais fundamental                object\n",
      "Anos Finais -fundamental                 object\n",
      "Ensino MÃ©dio                            object\n",
      "EducaÃ§Ã£o Profissional                  object\n",
      "EducaÃ§Ã£o de Jovens e Adultos (EJA)     object\n",
      "EducaÃ§Ã£o Especial                      object\n",
      "terrai_nome                              object\n",
      "etnia_nome                               object\n",
      "modalidade_ti                            object\n",
      "faixa_fronteira                          object\n",
      "dtype: object\n"
     ]
    }
   ],
   "source": [
    "import pandas as pd\n",
    "\n",
    "\n",
    "file_path = 'datasets/merged_data.csv'\n",
    "df = pd.read_csv(file_path, delimiter=';', encoding='latin-1')\n",
    "\n",
    "\n",
    "print(\"Tipos de dados das colunas:\")\n",
    "print(df.dtypes)"
   ]
  },
  {
   "cell_type": "code",
   "execution_count": 61,
   "metadata": {},
   "outputs": [
    {
     "data": {
      "image/png": "[encoded data removed]",
      "text/plain": [
       "<Figure size 1000x600 with 1 Axes>"
      ]
     },
     "metadata": {},
     "output_type": "display_data"
    }
   ],
   "source": [
    "import pandas as pd\n",
    "import matplotlib.pyplot as plt\n",
    "\n",
    "\n",
    "file_path = 'datasets/merged_data.csv'\n",
    "df = pd.read_csv(file_path, delimiter=';', encoding='latin-1')\n",
    "\n",
    "\n",
    "grouped_data = df.groupby('NO_REGIAO')['terrai_nome'].count()\n",
    "\n",
    "\n",
    "plt.figure(figsize=(10, 6))\n",
    "grouped_data.plot(kind='bar', color='skyblue')\n",
    "\n",
    "\n",
    "plt.title('Contagem de terrai_nome por NO_REGIAO')\n",
    "plt.xlabel('NO_REGIAO')\n",
    "plt.ylabel('Contagem')\n",
    "\n",
    "\n",
    "plt.xticks(rotation=45, ha='right')\n",
    "plt.tight_layout()  # Ajusta o layout para que tudo se encaixe bem\n",
    "plt.show()"
   ]
  },
  {
   "cell_type": "code",
   "execution_count": 62,
   "metadata": {},
   "outputs": [
    {
     "data": {
      "image/png": "[encoded data removed]",
      "text/plain": [
       "<Figure size 1000x600 with 1 Axes>"
      ]
     },
     "metadata": {},
     "output_type": "display_data"
    }
   ],
   "source": [
    "import pandas as pd\n",
    "import matplotlib.pyplot as plt\n",
    "\n",
    "\n",
    "file_path = 'datasets/merged_data.csv'\n",
    "df = pd.read_csv(file_path, delimiter=';', encoding='latin-1')\n",
    "\n",
    "\n",
    "df_filtered = df[df['terrai_nome'] != 'Não há terra indigena']\n",
    "\n",
    "\n",
    "grouped_data = df_filtered.groupby('NO_REGIAO')['terrai_nome'].count()\n",
    "\n",
    "\n",
    "plt.figure(figsize=(10, 6))\n",
    "grouped_data.plot(kind='bar', color='skyblue')\n",
    "\n",
    "\n",
    "plt.title('Contagem de terrai_nome por NO_REGIAO (Excluindo \"Não há terra indigena\")')\n",
    "plt.xlabel('NO_REGIAO')\n",
    "plt.ylabel('Contagem')\n",
    "\n",
    "\n",
    "plt.xticks(rotation=45, ha='right')\n",
    "plt.tight_layout()  \n",
    "plt.show()"
   ]
  },
  {
   "cell_type": "code",
   "execution_count": 63,
   "metadata": {},
   "outputs": [
    {
     "name": "stdout",
     "output_type": "stream",
     "text": [
      "Colunas removidas e arquivo atualizado.\n"
     ]
    }
   ],
   "source": [
    "import pandas as pd\n",
    "\n",
    "\n",
    "file_path = 'datasets/merged_data.csv'\n",
    "df = pd.read_csv(file_path, delimiter=';', encoding='latin-1')\n",
    "\n",
    "\n",
    "columns_to_remove = ['Creche', 'Pré-Escola', 'Anos Iniciais fundamental', 'Anos Finais -fundamental']\n",
    "df.drop(columns=columns_to_remove, inplace=True, errors='ignore')\n",
    "\n",
    "\n",
    "df.to_csv(file_path, sep=';', index=False, encoding='latin-1')\n",
    "\n",
    "print(\"Colunas removidas e arquivo atualizado.\")"
   ]
  },
  {
   "cell_type": "code",
   "execution_count": 64,
   "metadata": {},
   "outputs": [
    {
     "name": "stdout",
     "output_type": "stream",
     "text": [
      "Substituições realizadas e arquivo atualizado.\n"
     ]
    }
   ],
   "source": [
    "import pandas as pd\n",
    "\n",
    "\n",
    "file_path = 'datasets/merged_data.csv'\n",
    "df = pd.read_csv(file_path, delimiter=';', encoding='latin-1')\n",
    "\n",
    "\n",
    "columns_to_replace = ['Total -educacao infantil', 'Total - findamental', 'Ensino Médio', \n",
    "                       'Educação Profissional', 'Educação de Jovens e Adultos (EJA)', 'Educação Especial']\n",
    "\n",
    "for column in columns_to_replace:\n",
    "    if column in df.columns:\n",
    "        df[column] = df[column].astype(str).str.replace(',', '.', regex=False)\n",
    "\n",
    "\n",
    "df.to_csv(file_path, sep=';', index=False, encoding='latin-1')\n",
    "\n",
    "print(\"Substituições realizadas e arquivo atualizado.\")"
   ]
  },
  {
   "cell_type": "code",
   "execution_count": 65,
   "metadata": {},
   "outputs": [
    {
     "name": "stdout",
     "output_type": "stream",
     "text": [
      "Colunas convertidas para float e arquivo atualizado.\n"
     ]
    }
   ],
   "source": [
    "import pandas as pd\n",
    "\n",
    "\n",
    "file_path = 'datasets/merged_data.csv'\n",
    "df = pd.read_csv(file_path, delimiter=';', encoding='latin-1')\n",
    "\n",
    "\n",
    "columns_to_replace = ['Total -educacao infantil', 'Total - findamental', 'Ensino Médio', \n",
    "                       'Educação Profissional', 'Educação de Jovens e Adultos (EJA)', 'Educação Especial']\n",
    "\n",
    "for column in columns_to_replace:\n",
    "    if column in df.columns:\n",
    "      \n",
    "        df[column] = df[column].astype(str).str.replace(',', '.', regex=False)\n",
    "     \n",
    "        df[column] = pd.to_numeric(df[column], errors='coerce')  \n",
    "\n",
    "\n",
    "df.to_csv(file_path, sep=';', index=False, encoding='latin-1')\n",
    "\n",
    "print(\"Colunas convertidas para float e arquivo atualizado.\")"
   ]
  },
  {
   "cell_type": "code",
   "execution_count": 66,
   "metadata": {},
   "outputs": [
    {
     "name": "stdout",
     "output_type": "stream",
     "text": [
      "Tipos de dados das colunas:\n",
      "LONGITUDE                                object\n",
      "LATITUDE                                 object\n",
      "NO_MUNICIPIO                             object\n",
      "NO_REGIAO                                object\n",
      "SG_UF                                    object\n",
      "CO_MUNICIPIO                            float64\n",
      "Total -educacao infantil                float64\n",
      "PrÃ©-Escola                              object\n",
      "Total - findamental                     float64\n",
      "Ensino MÃ©dio                            object\n",
      "EducaÃ§Ã£o Profissional                  object\n",
      "EducaÃ§Ã£o de Jovens e Adultos (EJA)     object\n",
      "EducaÃ§Ã£o Especial                      object\n",
      "terrai_nome                              object\n",
      "etnia_nome                               object\n",
      "modalidade_ti                            object\n",
      "faixa_fronteira                          object\n",
      "dtype: object\n"
     ]
    }
   ],
   "source": [
    "import pandas as pd\n",
    "\n",
    "\n",
    "file_path = 'datasets/merged_data.csv'\n",
    "df = pd.read_csv(file_path, delimiter=';', encoding='latin-1')\n",
    "\n",
    "\n",
    "print(\"Tipos de dados das colunas:\")\n",
    "print(df.dtypes)"
   ]
  },
  {
   "cell_type": "code",
   "execution_count": 67,
   "metadata": {},
   "outputs": [
    {
     "name": "stdout",
     "output_type": "stream",
     "text": [
      "Tipos de dados das colunas após conversão:\n",
      "LONGITUDE                                object\n",
      "LATITUDE                                 object\n",
      "NO_MUNICIPIO                             object\n",
      "NO_REGIAO                                object\n",
      "SG_UF                                    object\n",
      "CO_MUNICIPIO                            float64\n",
      "Total -educacao infantil                float64\n",
      "PrÃ©-Escola                              object\n",
      "Total - findamental                     float64\n",
      "Ensino MÃ©dio                            object\n",
      "EducaÃ§Ã£o Profissional                  object\n",
      "EducaÃ§Ã£o de Jovens e Adultos (EJA)     object\n",
      "EducaÃ§Ã£o Especial                      object\n",
      "terrai_nome                              object\n",
      "etnia_nome                               object\n",
      "modalidade_ti                            object\n",
      "faixa_fronteira                          object\n",
      "dtype: object\n",
      "Colunas convertidas para float e arquivo atualizado.\n"
     ]
    }
   ],
   "source": [
    "import pandas as pd\n",
    "\n",
    "\n",
    "file_path = 'datasets/merged_data.csv'\n",
    "df = pd.read_csv(file_path, delimiter=';', encoding='latin-1')\n",
    "\n",
    "\n",
    "columns_to_replace = ['Total -educacao infantil', 'Total - findamental', 'Ensino Médio', \n",
    "                       'Educação Profissional', 'Educação de Jovens e Adultos (EJA)', 'Educação Especial']\n",
    "\n",
    "for column in columns_to_replace:\n",
    "    if column in df.columns:\n",
    "        \n",
    "        df[column] = df[column].astype(str).str.replace(',', '.', regex=False)\n",
    "        \n",
    "        df[column] = pd.to_numeric(df[column], errors='coerce')  \n",
    "\n",
    "\n",
    "print(\"Tipos de dados das colunas após conversão:\")\n",
    "print(df.dtypes)\n",
    "\n",
    "\n",
    "df.to_csv(file_path, sep=';', index=False, encoding='latin-1')\n",
    "\n",
    "print(\"Colunas convertidas para float e arquivo atualizado.\")"
   ]
  },
  {
   "cell_type": "code",
   "execution_count": 68,
   "metadata": {},
   "outputs": [
    {
     "name": "stdout",
     "output_type": "stream",
     "text": [
      "Tipos de dados das colunas após substituições e conversão:\n",
      "LONGITUDE                                object\n",
      "LATITUDE                                 object\n",
      "NO_MUNICIPIO                             object\n",
      "NO_REGIAO                                object\n",
      "SG_UF                                    object\n",
      "CO_MUNICIPIO                            float64\n",
      "Total -educacao infantil                float64\n",
      "PrÃ©-Escola                              object\n",
      "Total - findamental                     float64\n",
      "Ensino MÃ©dio                            object\n",
      "EducaÃ§Ã£o Profissional                  object\n",
      "EducaÃ§Ã£o de Jovens e Adultos (EJA)     object\n",
      "EducaÃ§Ã£o Especial                      object\n",
      "terrai_nome                              object\n",
      "etnia_nome                               object\n",
      "modalidade_ti                            object\n",
      "faixa_fronteira                          object\n",
      "dtype: object\n",
      "Valores substituídos e colunas convertidas para float. Arquivo atualizado.\n"
     ]
    }
   ],
   "source": [
    "import pandas as pd\n",
    "\n",
    "\n",
    "file_path = 'datasets/merged_data.csv'\n",
    "df = pd.read_csv(file_path, delimiter=';', encoding='latin-1')\n",
    "\n",
    "\n",
    "columns_to_replace = ['Total -educacao infantil', 'Total - findamental', 'Ensino Médio', \n",
    "                       'Educação Profissional', 'Educação de Jovens e Adultos (EJA)', 'Educação Especial']\n",
    "\n",
    "for column in columns_to_replace:\n",
    "    if column in df.columns:\n",
    "        \n",
    "        df[column] = df[column].replace('--', '0')\n",
    "        \n",
    "        df[column] = df[column].astype(str).str.replace(',', '.', regex=False)\n",
    "        df[column] = pd.to_numeric(df[column], errors='coerce')  \n",
    "\n",
    "\n",
    "print(\"Tipos de dados das colunas após substituições e conversão:\")\n",
    "print(df.dtypes)\n",
    "\n",
    "\n",
    "df.to_csv(file_path, sep=';', index=False, encoding='latin-1')\n",
    "\n",
    "print(\"Valores substituídos e colunas convertidas para float. Arquivo atualizado.\")"
   ]
  },
  {
   "cell_type": "code",
   "execution_count": 70,
   "metadata": {},
   "outputs": [
    {
     "name": "stdout",
     "output_type": "stream",
     "text": [
      "Tipos de dados das colunas após substituições e conversão:\n",
      "LONGITUDE                                object\n",
      "LATITUDE                                 object\n",
      "NO_MUNICIPIO                             object\n",
      "NO_REGIAO                                object\n",
      "SG_UF                                    object\n",
      "CO_MUNICIPIO                            float64\n",
      "Total -educacao infantil                float64\n",
      "PrÃ©-Escola                             float64\n",
      "Total - findamental                     float64\n",
      "Ensino MÃ©dio                           float64\n",
      "EducaÃ§Ã£o Profissional                 float64\n",
      "EducaÃ§Ã£o de Jovens e Adultos (EJA)    float64\n",
      "EducaÃ§Ã£o Especial                     float64\n",
      "terrai_nome                              object\n",
      "etnia_nome                               object\n",
      "modalidade_ti                            object\n",
      "faixa_fronteira                          object\n",
      "dtype: object\n",
      "Valores substituídos e colunas convertidas para float. Arquivo atualizado.\n"
     ]
    }
   ],
   "source": [
    "import pandas as pd\n",
    "\n",
    "\n",
    "file_path = 'datasets/merged_data.csv'\n",
    "df = pd.read_csv(file_path, delimiter=';', encoding='latin-1')\n",
    "\n",
    "\n",
    "columns_to_process = ['Total -educacao infantil', 'Total - findamental', 'Ensino Médio', \n",
    "                       'Educação Profissional', 'Educação de Jovens e Adultos (EJA)', 'Educação Especial']\n",
    "\n",
    "\n",
    "for column in columns_to_process:\n",
    "    if column in df.columns:\n",
    "        \n",
    "        df[column] = df[column].astype(str)\n",
    "        \n",
    "        df[column] = df[column].replace('--', '0')\n",
    "        \n",
    "        df[column] = df[column].str.replace(',', '.', regex=False)\n",
    "       \n",
    "        df[column] = pd.to_numeric(df[column], errors='coerce')  # 'coerce' converte valores inválidos para NaN\n",
    "\n",
    "\n",
    "print(\"Tipos de dados das colunas após substituições e conversão:\")\n",
    "print(df.dtypes)\n",
    "\n",
    "\n",
    "df.to_csv(file_path, sep=';', index=False, encoding='latin-1')\n",
    "\n",
    "print(\"Valores substituídos e colunas convertidas para float. Arquivo atualizado.\")"
   ]
  },
  {
   "cell_type": "code",
   "execution_count": 71,
   "metadata": {},
   "outputs": [
    {
     "name": "stdout",
     "output_type": "stream",
     "text": [
      "             terrai_nome ha-terra-indigena\n",
      "0  Não há terra indigena               nao\n",
      "1  Não há terra indigena               nao\n",
      "2  Não há terra indigena               nao\n",
      "3  Não há terra indigena               nao\n",
      "4  Não há terra indigena               nao\n",
      "Coluna 'ha-terra-indigena' criada e arquivo atualizado.\n"
     ]
    }
   ],
   "source": [
    "import pandas as pd\n",
    "\n",
    "\n",
    "file_path = 'datasets/merged_data.csv'\n",
    "df = pd.read_csv(file_path, delimiter=';', encoding='latin-1')\n",
    "\n",
    "\n",
    "df['ha-terra-indigena'] = df['terrai_nome'].apply(lambda x: 'nao' if x == 'Não há terra indigena' else 'sim')\n",
    "\n",
    "\n",
    "print(df[['terrai_nome', 'ha-terra-indigena']].head())\n",
    "\n",
    "\n",
    "df.to_csv(file_path, sep=';', index=False, encoding='latin-1')\n",
    "\n",
    "print(\"Coluna 'ha-terra-indigena' criada e arquivo atualizado.\")"
   ]
  },
  {
   "cell_type": "code",
   "execution_count": 73,
   "metadata": {},
   "outputs": [
    {
     "data": {
      "image/png": "[encoded data removed]",
      "text/plain": [
       "<Figure size 1200x700 with 1 Axes>"
      ]
     },
     "metadata": {},
     "output_type": "display_data"
    }
   ],
   "source": [
    "import pandas as pd\n",
    "import matplotlib.pyplot as plt\n",
    "\n",
    "\n",
    "file_path = 'datasets/merged_data.csv'\n",
    "df = pd.read_csv(file_path, delimiter=';', encoding='latin-1')\n",
    "\n",
    "\n",
    "grouped = df.groupby(['SG_UF', 'ha-terra-indigena']).size().unstack(fill_value=0)\n",
    "\n",
    "\n",
    "grouped.plot(kind='bar', stacked=True, figsize=(12, 7), colormap='viridis')\n",
    "plt.title('Distribuição de Terra Indígena por Estado (SG_UF)')\n",
    "plt.xlabel('Estado (SG_UF)')\n",
    "plt.ylabel('Contagem')\n",
    "plt.xticks(rotation=45) \n",
    "plt.legend(title='Terra Indígena')\n",
    "plt.tight_layout()  \n",
    "plt.show()"
   ]
  },
  {
   "cell_type": "code",
   "execution_count": 74,
   "metadata": {},
   "outputs": [
    {
     "data": {
      "image/png": "[encoded data removed]",
      "text/plain": [
       "<Figure size 1200x700 with 1 Axes>"
      ]
     },
     "metadata": {},
     "output_type": "display_data"
    }
   ],
   "source": [
    "import pandas as pd\n",
    "import matplotlib.pyplot as plt\n",
    "\n",
    "\n",
    "file_path = 'datasets/merged_data.csv'\n",
    "df = pd.read_csv(file_path, delimiter=';', encoding='latin-1')\n",
    "\n",
    "\n",
    "grouped = df.groupby(['NO_REGIAO', 'ha-terra-indigena']).size().unstack(fill_value=0)\n",
    "\n",
    "\n",
    "grouped.plot(kind='bar', stacked=True, figsize=(12, 7), colormap='viridis')\n",
    "plt.title('Distribuição de Terra Indígena por Região (NO_REGIAO)')\n",
    "plt.xlabel('Região (NO_REGIAO)')\n",
    "plt.ylabel('Contagem')\n",
    "plt.xticks(rotation=45) \n",
    "plt.legend(title='Terra Indígena')\n",
    "plt.tight_layout()  \n",
    "plt.show() "
   ]
  },
  {
   "cell_type": "code",
   "execution_count": 75,
   "metadata": {},
   "outputs": [
    {
     "data": {
      "image/png": "[encoded data removed]",
      "text/plain": [
       "<Figure size 1200x700 with 1 Axes>"
      ]
     },
     "metadata": {},
     "output_type": "display_data"
    }
   ],
   "source": [
    "import pandas as pd\n",
    "import matplotlib.pyplot as plt\n",
    "\n",
    "\n",
    "file_path = 'datasets/merged_data.csv'\n",
    "df = pd.read_csv(file_path, delimiter=';', encoding='latin-1')\n",
    "\n",
    "\n",
    "grouped = df.groupby(['NO_REGIAO', 'ha-terra-indigena']).size().unstack(fill_value=0)\n",
    "\n",
    "\n",
    "grouped_percentage = grouped.div(grouped.sum(axis=1), axis=0) * 100\n",
    "\n",
    "\n",
    "ax = grouped_percentage.plot(kind='bar', stacked=True, figsize=(12, 7), colormap='viridis')\n",
    "plt.title('Distribuição Percentual de Terra Indígena por Região (NO_REGIAO)')\n",
    "plt.xlabel('Região (NO_REGIAO)')\n",
    "plt.ylabel('Percentual (%)')\n",
    "plt.xticks(rotation=45)  \n",
    "plt.legend(title='Terra Indígena')\n",
    "plt.tight_layout()  \n",
    "\n",
    "\n",
    "for container in ax.containers:\n",
    "    ax.bar_label(container, label_type='edge', fontsize=8, padding=3)\n",
    "\n",
    "plt.show()"
   ]
  },
  {
   "cell_type": "code",
   "execution_count": 77,
   "metadata": {},
   "outputs": [
    {
     "name": "stdout",
     "output_type": "stream",
     "text": [
      "LONGITUDE    float64\n",
      "LATITUDE     float64\n",
      "dtype: object\n",
      "Colunas 'LONGITUDE' e 'LATITUDE' atualizadas e arquivo salvo em datasets/merged_data_updated.csv\n"
     ]
    }
   ],
   "source": [
    "import pandas as pd\n",
    "\n",
    "\n",
    "file_path = 'datasets/merged_data.csv'\n",
    "df = pd.read_csv(file_path, delimiter=';', encoding='latin-1')\n",
    "\n",
    "\n",
    "df['LONGITUDE'] = df['LONGITUDE'].astype(str).str.replace(',', '.', regex=False)\n",
    "df['LATITUDE'] = df['LATITUDE'].astype(str).str.replace(',', '.', regex=False)\n",
    "\n",
    "\n",
    "df['LONGITUDE'] = pd.to_numeric(df['LONGITUDE'], errors='coerce')\n",
    "df['LATITUDE'] = pd.to_numeric(df['LATITUDE'], errors='coerce')\n",
    "\n",
    "\n",
    "print(df[['LONGITUDE', 'LATITUDE']].dtypes)\n",
    "\n",
    "\n",
    "output_file_path = 'datasets/merged_data_updated.csv'\n",
    "df.to_csv(output_file_path, sep=';', index=False, encoding='latin-1')\n",
    "\n",
    "print(\"Colunas 'LONGITUDE' e 'LATITUDE' atualizadas e arquivo salvo em\", output_file_path)"
   ]
  },
  {
   "cell_type": "code",
   "execution_count": 78,
   "metadata": {},
   "outputs": [
    {
     "name": "stdout",
     "output_type": "stream",
     "text": [
      "LONGITUDE                                object\n",
      "LATITUDE                                 object\n",
      "NO_MUNICIPIO                             object\n",
      "NO_REGIAO                                object\n",
      "SG_UF                                    object\n",
      "CO_MUNICIPIO                            float64\n",
      "Total -educacao infantil                float64\n",
      "PrÃ©-Escola                             float64\n",
      "Total - findamental                     float64\n",
      "Ensino MÃ©dio                           float64\n",
      "EducaÃ§Ã£o Profissional                 float64\n",
      "EducaÃ§Ã£o de Jovens e Adultos (EJA)    float64\n",
      "EducaÃ§Ã£o Especial                     float64\n",
      "terrai_nome                              object\n",
      "etnia_nome                               object\n",
      "modalidade_ti                            object\n",
      "faixa_fronteira                          object\n",
      "ha-terra-indigena                        object\n",
      "dtype: object\n"
     ]
    }
   ],
   "source": [
    "import pandas as pd\n",
    "\n",
    "\n",
    "file_path = 'datasets/merged_data.csv'\n",
    "df = pd.read_csv(file_path, delimiter=';', encoding='latin-1')\n",
    "\n",
    "\n",
    "print(df.dtypes)"
   ]
  },
  {
   "cell_type": "code",
   "execution_count": 80,
   "metadata": {},
   "outputs": [
    {
     "name": "stdout",
     "output_type": "stream",
     "text": [
      "LONGITUDE    float64\n",
      "LATITUDE     float64\n",
      "dtype: object\n",
      "Colunas 'LONGITUDE' e 'LATITUDE' foram convertidas para float e arquivo salvo.\n"
     ]
    }
   ],
   "source": [
    "import pandas as pd\n",
    "\n",
    "# Carregar o arquivo CSV\n",
    "file_path = 'datasets/merged_data.csv'\n",
    "df = pd.read_csv(file_path, delimiter=';', encoding='latin-1')\n",
    "\n",
    "# Substituir ',' por '.' nas colunas 'LONGITUDE' e 'LATITUDE'\n",
    "df['LONGITUDE'] = df['LONGITUDE'].astype(str).str.replace(',', '.', regex=False)\n",
    "df['LATITUDE'] = df['LATITUDE'].astype(str).str.replace(',', '.', regex=False)\n",
    "\n",
    "# Substituir valores '--' por NaN\n",
    "df['LONGITUDE'] = df['LONGITUDE'].replace('--', pd.NA)\n",
    "df['LATITUDE'] = df['LATITUDE'].replace('--', pd.NA)\n",
    "\n",
    "# Converter as colunas para float\n",
    "df['LONGITUDE'] = pd.to_numeric(df['LONGITUDE'], errors='coerce')\n",
    "df['LATITUDE'] = pd.to_numeric(df['LATITUDE'], errors='coerce')\n",
    "\n",
    "# Verificar os tipos das colunas\n",
    "print(df[['LONGITUDE', 'LATITUDE']].dtypes)\n",
    "\n",
    "# Opcional: Salvar as alterações de volta no arquivo CSV\n",
    "df.to_csv(file_path, sep=';', index=False, encoding='latin-1')\n",
    "\n",
    "print(\"Colunas 'LONGITUDE' e 'LATITUDE' foram convertidas para float e arquivo salvo.\")\n"
   ]
  },
  {
   "cell_type": "code",
   "execution_count": 81,
   "metadata": {},
   "outputs": [
    {
     "name": "stdout",
     "output_type": "stream",
     "text": [
      "LONGITUDE                               float64\n",
      "LATITUDE                                float64\n",
      "NO_MUNICIPIO                             object\n",
      "NO_REGIAO                                object\n",
      "SG_UF                                    object\n",
      "CO_MUNICIPIO                            float64\n",
      "Total -educacao infantil                float64\n",
      "PrÃ©-Escola                             float64\n",
      "Total - findamental                     float64\n",
      "Ensino MÃ©dio                           float64\n",
      "EducaÃ§Ã£o Profissional                 float64\n",
      "EducaÃ§Ã£o de Jovens e Adultos (EJA)    float64\n",
      "EducaÃ§Ã£o Especial                     float64\n",
      "terrai_nome                              object\n",
      "etnia_nome                               object\n",
      "modalidade_ti                            object\n",
      "faixa_fronteira                          object\n",
      "ha-terra-indigena                        object\n",
      "dtype: object\n"
     ]
    }
   ],
   "source": [
    "import pandas as pd\n",
    "\n",
    "\n",
    "file_path = 'datasets/merged_data.csv'\n",
    "df = pd.read_csv(file_path, delimiter=';', encoding='latin-1')\n",
    "\n",
    "\n",
    "print(df.dtypes)"
   ]
  },
  {
   "cell_type": "code",
   "execution_count": 82,
   "metadata": {},
   "outputs": [
    {
     "name": "stdout",
     "output_type": "stream",
     "text": [
      "            NO_MUNICIPIO ha-terra-indigena\n",
      "0  alta floresta d'oeste               nao\n",
      "1              ariquemes               nao\n",
      "2                 cabixi               nao\n",
      "3                 cacoal               nao\n",
      "4             cerejeiras               nao\n",
      "Valores na coluna 'ha-terra-indigena' atualizados para capitais.\n"
     ]
    }
   ],
   "source": [
    "import pandas as pd\n",
    "\n",
    "# Carregar o arquivo CSV\n",
    "file_path = 'datasets/merged_data.csv'\n",
    "df = pd.read_csv(file_path, delimiter=';', encoding='latin-1')\n",
    "\n",
    "# Lista de capitais (ajuste conforme necessário)\n",
    "capitais = [\n",
    "    'Brasília', 'São Paulo', 'Rio de Janeiro', 'Salvador', 'Fortaleza',\n",
    "    'Belo Horizonte', 'Manaus', 'Belém', 'São Luís', 'João Pessoa',\n",
    "    'Recife', 'Natal', 'Teresina', 'Maceió', 'Aracaju', 'Campo Grande',\n",
    "    'Cuiabá', 'Palmas', 'Vitória', 'Porto Alegre', 'Curitiba'\n",
    "]\n",
    "\n",
    "# Substituir os valores na coluna 'ha-terra-indigena' com 'capital' onde 'NO_MUNICIPIO' é uma capital\n",
    "df.loc[df['NO_MUNICIPIO'].isin(capitais), 'ha-terra-indigena'] = 'capital'\n",
    "\n",
    "# Verificar algumas linhas para garantir que a substituição foi feita\n",
    "print(df[['NO_MUNICIPIO', 'ha-terra-indigena']].head())\n",
    "\n",
    "# Opcional: Salvar as alterações de volta no arquivo CSV\n",
    "df.to_csv(file_path, sep=';', index=False, encoding='latin-1')\n",
    "\n",
    "print(\"Valores na coluna 'ha-terra-indigena' atualizados para capitais.\")"
   ]
  }
 ],
 "metadata": {
  "kernelspec": {
   "display_name": "Python 3",
   "language": "python",
   "name": "python3"
  },
  "language_info": {
   "codemirror_mode": {
    "name": "ipython",
    "version": 3
   },
   "file_extension": ".py",
   "mimetype": "text/x-python",
   "name": "python",
   "nbconvert_exporter": "python",
   "pygments_lexer": "ipython3",
   "version": "3.12.2"
  }
 },
 "nbformat": 4,
 "nbformat_minor": 2
}
